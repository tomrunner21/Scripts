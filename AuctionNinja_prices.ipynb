{
  "nbformat": 4,
  "nbformat_minor": 0,
  "metadata": {
    "colab": {
      "name": "AuctionNinja prices.ipynb",
      "provenance": [],
      "authorship_tag": "ABX9TyOMB4II1o/eS5SpZVsux1RB",
      "include_colab_link": true
    },
    "kernelspec": {
      "name": "python3",
      "display_name": "Python 3"
    },
    "language_info": {
      "name": "python"
    }
  },
  "cells": [
    {
      "cell_type": "markdown",
      "metadata": {
        "id": "view-in-github",
        "colab_type": "text"
      },
      "source": [
        "<a href=\"https://colab.research.google.com/github/tomrunner21/Scripts/blob/main/AuctionNinja_prices.ipynb\" target=\"_parent\"><img src=\"https://colab.research.google.com/assets/colab-badge.svg\" alt=\"Open In Colab\"/></a>"
      ]
    },
    {
      "cell_type": "code",
      "metadata": {
        "id": "i4zA__KsBEbr"
      },
      "source": [
        "import requests\n",
        "from requests import get\n",
        "import pandas as pd\n",
        "import numpy as np\n",
        "\n",
        "from time import sleep\n",
        "from random import randint\n",
        "\n",
        "from bs4 import BeautifulSoup as soup\n",
        "from urllib.request import Request, urlopen"
      ],
      "execution_count": null,
      "outputs": []
    },
    {
      "cell_type": "code",
      "metadata": {
        "id": "23v4uOObBWNn"
      },
      "source": [
        "def final(url, max_pages):\n",
        "  pokemon = []\n",
        "  pages = np.arange(2, int(max_pages), 1)\n",
        "  req = Request(url, headers={'User-Agent': 'Mozilla/5.0'})\n",
        "  webpage = urlopen(req).read()\n",
        "  html = soup(webpage, \"html.parser\")\n",
        "\n",
        "  price_blocks = html.find_all(attrs = {'class': 'current-top'})\n",
        "  for price in price_blocks:\n",
        "    text = price.findChild().findChild().get_text()\n",
        "    print(text)\n",
        "\n",
        "  #   sleep(7) #took me about 6-7 seconds to slowly scroll on computer at a slow to average speed\n",
        "  return pokemon"
      ],
      "execution_count": null,
      "outputs": []
    },
    {
      "cell_type": "code",
      "metadata": {
        "colab": {
          "base_uri": "https://localhost:8080/"
        },
        "id": "JXDU6YqNDSR1",
        "outputId": "5c45ef6b-d7db-406f-c006-90a0a93db709"
      },
      "source": [
        "final(\"https://www.blackrockgalleries.com/sales/amazing-greenwich-single-owner-online-auction-p-u-fri-sat-27-28--1279.html\", 10)"
      ],
      "execution_count": null,
      "outputs": [
        {
          "output_type": "stream",
          "text": [
            "$370.00\n",
            "$376.00\n",
            "$205.00\n",
            "$501.00\n",
            "$130.00\n",
            "$310.00\n",
            "$105.00\n",
            "$90.00\n",
            "$105.00\n",
            "$117.00\n",
            "$201.00\n",
            "$310.00\n",
            "$72.00\n",
            "$185.00\n",
            "$90.00\n",
            "$136.00\n",
            "$125.00\n",
            "$330.00\n",
            "$296.00\n",
            "$333.00\n"
          ],
          "name": "stdout"
        },
        {
          "output_type": "execute_result",
          "data": {
            "text/plain": [
              "[]"
            ]
          },
          "metadata": {},
          "execution_count": 16
        }
      ]
    }
  ]
}